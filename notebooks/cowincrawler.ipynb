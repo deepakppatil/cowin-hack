{
 "cells": [
  {
   "cell_type": "code",
   "execution_count": 1,
   "id": "acbba79e",
   "metadata": {},
   "outputs": [
    {
     "name": "stdout",
     "output_type": "stream",
     "text": [
      "Requirement already satisfied: tabulate==0.8.9 in /usr/local/lib/python3.9/site-packages (from -r ../requirements.txt (line 1)) (0.8.9)\n",
      "Requirement already satisfied: requests==2.25.1 in /usr/local/lib/python3.9/site-packages (from -r ../requirements.txt (line 2)) (2.25.1)\n",
      "Requirement already satisfied: logger==1.4 in /usr/local/lib/python3.9/site-packages (from -r ../requirements.txt (line 3)) (1.4)\n",
      "Collecting click==7.1.2\n",
      "  Using cached click-7.1.2-py2.py3-none-any.whl (82 kB)\n",
      "Requirement already satisfied: idna<3,>=2.5 in /usr/local/lib/python3.9/site-packages (from requests==2.25.1->-r ../requirements.txt (line 2)) (2.10)\n",
      "Requirement already satisfied: certifi>=2017.4.17 in /usr/local/lib/python3.9/site-packages (from requests==2.25.1->-r ../requirements.txt (line 2)) (2020.12.5)\n",
      "Requirement already satisfied: urllib3<1.27,>=1.21.1 in /usr/local/lib/python3.9/site-packages (from requests==2.25.1->-r ../requirements.txt (line 2)) (1.26.4)\n",
      "Requirement already satisfied: chardet<5,>=3.0.2 in /usr/local/lib/python3.9/site-packages (from requests==2.25.1->-r ../requirements.txt (line 2)) (4.0.0)\n",
      "Installing collected packages: click\n",
      "Successfully installed click-7.1.2\n",
      "Note: you may need to restart the kernel to use updated packages.\n"
     ]
    }
   ],
   "source": [
    "pip install -r ../requirements.txt"
   ]
  },
  {
   "cell_type": "code",
   "execution_count": 1,
   "id": "2f61c4fd",
   "metadata": {},
   "outputs": [
    {
     "name": "stderr",
     "output_type": "stream",
     "text": [
      "05/09/2021 04:48:34 PM __inside__\n",
      "05/09/2021 04:48:34 PM system operational..\n",
      "05/09/2021 04:48:34 PM initialising crawler....\n",
      "05/09/2021 04:48:34 PM Low on fuel\n",
      "05/09/2021 04:48:34 PM No fuel. Trying to glide.\n",
      "05/09/2021 04:48:34 PM Glide attempt failed. About to crash.\n",
      "05/09/2021 04:48:37 PM fetching data form cowin for 09-May-2021 16:48:37....\n",
      "05/09/2021 04:48:37 PM Starting new HTTPS connection (1): cdn-api.co-vin.in:443\n",
      "05/09/2021 04:48:37 PM https://cdn-api.co-vin.in:443 \"GET /api/v2/appointment/sessions/public/calendarByDistrict?district_id=392&date=09-05-2021 HTTP/1.1\" 200 23721\n",
      "05/09/2021 04:48:37 PM Name                             Capacity  Vaccine     Address\n",
      "-----------------------------  ----------  ----------  -----------------------------------------------------------------------------------\n",
      "KDMC ART GALLARY 18 TO 44 YRS           0  COVAXIN     Kalyan Dombivali Municipal Corporation, Behind Ganpati Madir Lal Chowki Kalyan West\n",
      "PHALEGAON SUBCENTER KHADAVALI           0  COVISHIELD  Kalyan, Phalegaon KHADAVALI KALYAN\n",
      "MANIVALI SUBCENTER DAHAGAON             0  COVISHIELD  Kalyan, MANIVALI SC DAHAGAON KALYAN\n",
      "Dabhad PHC                              0  COVISHIELD  Bhiwandi, Phc Dabhad\n",
      "05/09/2021 04:48:40 PM fetching data form cowin for 09-May-2021 16:48:40....\n",
      "05/09/2021 04:48:40 PM Starting new HTTPS connection (1): cdn-api.co-vin.in:443\n",
      "05/09/2021 04:48:40 PM https://cdn-api.co-vin.in:443 \"GET /api/v2/appointment/sessions/public/calendarByDistrict?district_id=392&date=09-05-2021 HTTP/1.1\" 200 23721\n",
      "05/09/2021 04:48:40 PM Name                             Capacity  Vaccine     Address\n",
      "-----------------------------  ----------  ----------  -----------------------------------------------------------------------------------\n",
      "KDMC ART GALLARY 18 TO 44 YRS           0  COVAXIN     Kalyan Dombivali Municipal Corporation, Behind Ganpati Madir Lal Chowki Kalyan West\n",
      "PHALEGAON SUBCENTER KHADAVALI           0  COVISHIELD  Kalyan, Phalegaon KHADAVALI KALYAN\n",
      "MANIVALI SUBCENTER DAHAGAON             0  COVISHIELD  Kalyan, MANIVALI SC DAHAGAON KALYAN\n",
      "Dabhad PHC                              0  COVISHIELD  Bhiwandi, Phc Dabhad\n",
      "05/09/2021 04:48:43 PM fetching data form cowin for 09-May-2021 16:48:43....\n",
      "05/09/2021 04:48:43 PM Starting new HTTPS connection (1): cdn-api.co-vin.in:443\n",
      "05/09/2021 04:48:43 PM https://cdn-api.co-vin.in:443 \"GET /api/v2/appointment/sessions/public/calendarByDistrict?district_id=392&date=09-05-2021 HTTP/1.1\" 200 23721\n",
      "05/09/2021 04:48:43 PM Name                             Capacity  Vaccine     Address\n",
      "-----------------------------  ----------  ----------  -----------------------------------------------------------------------------------\n",
      "KDMC ART GALLARY 18 TO 44 YRS           0  COVAXIN     Kalyan Dombivali Municipal Corporation, Behind Ganpati Madir Lal Chowki Kalyan West\n",
      "PHALEGAON SUBCENTER KHADAVALI           0  COVISHIELD  Kalyan, Phalegaon KHADAVALI KALYAN\n",
      "MANIVALI SUBCENTER DAHAGAON             0  COVISHIELD  Kalyan, MANIVALI SC DAHAGAON KALYAN\n",
      "Dabhad PHC                              0  COVISHIELD  Bhiwandi, Phc Dabhad\n"
     ]
    },
    {
     "ename": "KeyboardInterrupt",
     "evalue": "",
     "output_type": "error",
     "traceback": [
      "\u001b[0;31m---------------------------------------------------------------------------\u001b[0m",
      "\u001b[0;31mKeyboardInterrupt\u001b[0m                         Traceback (most recent call last)",
      "\u001b[0;32m<ipython-input-1-cd0ef79fe711>\u001b[0m in \u001b[0;36m<module>\u001b[0;34m\u001b[0m\n\u001b[1;32m     75\u001b[0m \u001b[0mlog\u001b[0m\u001b[0;34m.\u001b[0m\u001b[0mcritical\u001b[0m\u001b[0;34m(\u001b[0m\u001b[0;34m'Glide attempt failed. About to crash.'\u001b[0m\u001b[0;34m)\u001b[0m\u001b[0;34m\u001b[0m\u001b[0;34m\u001b[0m\u001b[0m\n\u001b[1;32m     76\u001b[0m \u001b[0;34m\u001b[0m\u001b[0m\n\u001b[0;32m---> 77\u001b[0;31m \u001b[0mexecute\u001b[0m\u001b[0;34m(\u001b[0m\u001b[0;36m3\u001b[0m\u001b[0;34m,\u001b[0m \u001b[0mrun\u001b[0m\u001b[0;34m)\u001b[0m\u001b[0;34m\u001b[0m\u001b[0;34m\u001b[0m\u001b[0m\n\u001b[0m",
      "\u001b[0;32m<ipython-input-1-cd0ef79fe711>\u001b[0m in \u001b[0;36mexecute\u001b[0;34m(delay, task)\u001b[0m\n\u001b[1;32m     48\u001b[0m     \u001b[0mnext_time\u001b[0m \u001b[0;34m=\u001b[0m \u001b[0mtime\u001b[0m\u001b[0;34m.\u001b[0m\u001b[0mtime\u001b[0m\u001b[0;34m(\u001b[0m\u001b[0;34m)\u001b[0m \u001b[0;34m+\u001b[0m \u001b[0mdelay\u001b[0m\u001b[0;34m\u001b[0m\u001b[0;34m\u001b[0m\u001b[0m\n\u001b[1;32m     49\u001b[0m     \u001b[0;32mwhile\u001b[0m \u001b[0;32mTrue\u001b[0m\u001b[0;34m:\u001b[0m\u001b[0;34m\u001b[0m\u001b[0;34m\u001b[0m\u001b[0m\n\u001b[0;32m---> 50\u001b[0;31m         \u001b[0mtime\u001b[0m\u001b[0;34m.\u001b[0m\u001b[0msleep\u001b[0m\u001b[0;34m(\u001b[0m\u001b[0mmax\u001b[0m\u001b[0;34m(\u001b[0m\u001b[0;36m0\u001b[0m\u001b[0;34m,\u001b[0m \u001b[0mnext_time\u001b[0m \u001b[0;34m-\u001b[0m \u001b[0mtime\u001b[0m\u001b[0;34m.\u001b[0m\u001b[0mtime\u001b[0m\u001b[0;34m(\u001b[0m\u001b[0;34m)\u001b[0m\u001b[0;34m)\u001b[0m\u001b[0;34m)\u001b[0m\u001b[0;34m\u001b[0m\u001b[0;34m\u001b[0m\u001b[0m\n\u001b[0m\u001b[1;32m     51\u001b[0m         \u001b[0;32mtry\u001b[0m\u001b[0;34m:\u001b[0m\u001b[0;34m\u001b[0m\u001b[0;34m\u001b[0m\u001b[0m\n\u001b[1;32m     52\u001b[0m             \u001b[0mtask\u001b[0m\u001b[0;34m(\u001b[0m\u001b[0;34m)\u001b[0m\u001b[0;34m\u001b[0m\u001b[0;34m\u001b[0m\u001b[0m\n",
      "\u001b[0;31mKeyboardInterrupt\u001b[0m: "
     ]
    }
   ],
   "source": [
    "#Author: deepak patil\n",
    "import logging\n",
    "import traceback\n",
    "import requests\n",
    "import time\n",
    "\n",
    "from tabulate import tabulate\n",
    "from time import sleep\n",
    "from datetime import datetime\n",
    "\n",
    "\n",
    "class Crawler:\n",
    "\n",
    "    # base url\n",
    "    base = \"https://cdn-api.co-vin.in/api/v2/appointment/sessions/public/calendarByDistrict?district_id=392&date=\"\n",
    "\n",
    "    def __init__(self):\n",
    "        log.debug(\"__inside__\")\n",
    "        \n",
    "        \n",
    "    def start_process(self, date):\n",
    "        \"\"\"\n",
    "        function the data from cowin\n",
    "        \"\"\"\n",
    "        headers = {'User-Agent': 'Mozilla/5.0 (Macintosh; Intel Mac OS X 10_15_6) AppleWebKit/605.1.15 (KHTML, like Gecko) Version/14.0.3 Safari/605.1.15'}\n",
    "        result = requests.get(\"{0}{1}\".format(self.base, date), headers=headers)\n",
    "        if (result.status_code == 200):\n",
    "            return self.churn(result.json())\n",
    "        else:\n",
    "            log.error(\"Got {} response..\".format(result.status_code))\n",
    "            return []\n",
    "    \n",
    "    def churn(self, data):\n",
    "        output = []\n",
    "        for field in data['centers']:\n",
    "            if field['pincode'] == 421301:\n",
    "                for session in field['sessions']:\n",
    "                    if session['available_capacity'] == 0:\n",
    "                        record = [field['name'], \n",
    "                                  session['available_capacity'], \n",
    "                                  session['vaccine'], \n",
    "                                  \"{}, {}\".format(field['block_name'], field['address'])]\n",
    "                        output.append(record)\n",
    "        return output\n",
    "\n",
    "\n",
    "def execute(delay, task):\n",
    "    next_time = time.time() + delay\n",
    "    while True:\n",
    "        time.sleep(max(0, next_time - time.time()))\n",
    "        try:\n",
    "            task()\n",
    "        except Exception:\n",
    "            traceback.print_exc()\n",
    "            log.critical(\"Problem while executing repetitive task.\")\n",
    "        # skip tasks if we are behind schedule:\n",
    "        next_time += (time.time() - next_time) // delay * delay + delay\n",
    "\n",
    "def run():\n",
    "    logging.info(\"fetching data form cowin for {0}....\".format(datetime.today().strftime('%d-%B-%Y %H:%M:%S')))\n",
    "    date = datetime.today().strftime('%d-%m-%Y')\n",
    "    output = task.start_process(date)\n",
    "    if len(output) > 0:\n",
    "        log.info(tabulate(output, headers=['Name', 'Capacity', 'Vaccine', 'Address']))\n",
    "    else:\n",
    "        log.warning(\"Not available...\")\n",
    "\n",
    "logging.basicConfig(format='%(asctime)s %(message)s', datefmt='%m/%d/%Y %I:%M:%S %p', level=logging.DEBUG)\n",
    "log = logging.getLogger('__name__')\n",
    "task = Crawler()\n",
    "logging.info('initialising crawler....')\n",
    "\n",
    "execute(3, run)"
   ]
  },
  {
   "cell_type": "code",
   "execution_count": 20,
   "id": "8358e42d",
   "metadata": {},
   "outputs": [
    {
     "name": "stdout",
     "output_type": "stream",
     "text": [
      "15-08-2021\n",
      "16-08-2021\n",
      "17-08-2021\n"
     ]
    }
   ],
   "source": [
    "import datetime\n",
    "\n",
    "no_days = 3\n",
    "\n",
    "\n",
    "begin = datetime.datetime.strptime(\"15-08-2021\", \"%d-%m-%Y\")\n",
    "end = begin + datetime.timedelta(days=no_days-1)\n",
    "\n",
    "next_day = begin\n",
    "while True:\n",
    "    if next_day > end:\n",
    "        break\n",
    "    date = next_day.strftime(\"%d-%m-%Y\")\n",
    "    print(date)\n",
    "    next_day += datetime.timedelta(days=1)"
   ]
  }
 ],
 "metadata": {
  "kernelspec": {
   "display_name": "Python 3",
   "language": "python",
   "name": "python3"
  },
  "language_info": {
   "codemirror_mode": {
    "name": "ipython",
    "version": 3
   },
   "file_extension": ".py",
   "mimetype": "text/x-python",
   "name": "python",
   "nbconvert_exporter": "python",
   "pygments_lexer": "ipython3",
   "version": "3.9.1"
  }
 },
 "nbformat": 4,
 "nbformat_minor": 5
}
